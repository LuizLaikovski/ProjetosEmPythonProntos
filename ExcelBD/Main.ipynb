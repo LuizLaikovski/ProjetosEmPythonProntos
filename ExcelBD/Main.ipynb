{
 "cells": [
  {
   "cell_type": "code",
   "execution_count": null,
   "metadata": {},
   "outputs": [
    {
     "data": {
      "text/html": [
       "<div>\n",
       "<style scoped>\n",
       "    .dataframe tbody tr th:only-of-type {\n",
       "        vertical-align: middle;\n",
       "    }\n",
       "\n",
       "    .dataframe tbody tr th {\n",
       "        vertical-align: top;\n",
       "    }\n",
       "\n",
       "    .dataframe thead th {\n",
       "        text-align: right;\n",
       "    }\n",
       "</style>\n",
       "<table border=\"1\" class=\"dataframe\">\n",
       "  <thead>\n",
       "    <tr style=\"text-align: right;\">\n",
       "      <th></th>\n",
       "      <th>Produtos</th>\n",
       "      <th>Preço Base Original</th>\n",
       "      <th>Tipo</th>\n",
       "      <th>Multiplicador Imposto</th>\n",
       "      <th>Preço Base Reais</th>\n",
       "    </tr>\n",
       "  </thead>\n",
       "  <tbody>\n",
       "  </tbody>\n",
       "</table>\n",
       "</div>"
      ],
      "text/plain": [
       "Empty DataFrame\n",
       "Columns: [Produtos, Preço Base Original, Tipo, Multiplicador Imposto, Preço Base Reais]\n",
       "Index: []"
      ]
     },
     "metadata": {},
     "output_type": "display_data"
    }
   ],
   "source": [
    "import pandas as pd\n",
    "\n",
    "table = pd.read_excel(\"Produtos.xlsx\")"
   ]
  },
  {
   "cell_type": "code",
   "execution_count": 82,
   "metadata": {},
   "outputs": [],
   "source": [
    "class Produto:\n",
    "    def __init__(self, nome: str, PBO: float, tipo: str, MI: float, PBR: float):\n",
    "        self._nome: str = nome\n",
    "        self._PBO: float = PBO\n",
    "        self._tipo: str = tipo\n",
    "        self._MI: float = MI\n",
    "        self._PBR: float = PBR\n",
    "\n",
    "    # Métodos getter e setter para nome\n",
    "    def get_nome(self):\n",
    "        return self._nome\n",
    "    \n",
    "    def set_nome(self, nome):\n",
    "        self._nome = nome\n",
    "    \n",
    "    # Métodos getter e setter para PBO\n",
    "    def get_PBO(self):\n",
    "        return self._PBO\n",
    "    \n",
    "    def set_PBO(self, PBO):\n",
    "        self._PBO = PBO\n",
    "    \n",
    "    # Métodos getter e setter para tipo\n",
    "    def get_tipo(self):\n",
    "        return self._tipo\n",
    "    \n",
    "    def set_tipo(self, tipo):\n",
    "        self._tipo = tipo\n",
    "    \n",
    "    # Métodos getter e setter para MI\n",
    "    def get_MI(self):\n",
    "        return self._MI\n",
    "    \n",
    "    def set_MI(self, MI):\n",
    "        self._MI = MI\n",
    "    \n",
    "    # Métodos getter e setter para PBR\n",
    "    def get_PBR(self):\n",
    "        return self._PBR\n",
    "    \n",
    "    def set_PBR(self, PBR):\n",
    "        self._PBR = PBR\n",
    "\n",
    "    # Método toString\n",
    "    def __str__(self):\n",
    "        return f\"\"\"\n",
    "Nome do Produto: {self._nome},\n",
    "Preço original: {self._PBO},\n",
    "Tipo: {self._tipo}\n",
    "Imposto: {self._MI}\n",
    "Preço final: {self._PBR}\"\"\""
   ]
  },
  {
   "cell_type": "code",
   "execution_count": 83,
   "metadata": {},
   "outputs": [],
   "source": [
    "# Criando e imprimindo um objeto Produto\n",
    "nomeP =  \"Teste\"\n",
    "precoOP =  10\n",
    "tipoP =  \"Produto\"\n",
    "impostoP =  1.1\n",
    "produto1 = Produto(nomeP, precoOP, tipoP, impostoP, (precoOP * impostoP))\n",
    "\n",
    "\n"
   ]
  },
  {
   "cell_type": "code",
   "execution_count": 84,
   "metadata": {},
   "outputs": [
    {
     "data": {
      "text/html": [
       "<div>\n",
       "<style scoped>\n",
       "    .dataframe tbody tr th:only-of-type {\n",
       "        vertical-align: middle;\n",
       "    }\n",
       "\n",
       "    .dataframe tbody tr th {\n",
       "        vertical-align: top;\n",
       "    }\n",
       "\n",
       "    .dataframe thead th {\n",
       "        text-align: right;\n",
       "    }\n",
       "</style>\n",
       "<table border=\"1\" class=\"dataframe\">\n",
       "  <thead>\n",
       "    <tr style=\"text-align: right;\">\n",
       "      <th></th>\n",
       "      <th>Produtos</th>\n",
       "      <th>Preço Base Original</th>\n",
       "      <th>Tipo</th>\n",
       "      <th>Multiplicador Imposto</th>\n",
       "      <th>Preço Base Reais</th>\n",
       "    </tr>\n",
       "  </thead>\n",
       "  <tbody>\n",
       "    <tr>\n",
       "      <th>2</th>\n",
       "      <td>Teste</td>\n",
       "      <td>10</td>\n",
       "      <td>Produto</td>\n",
       "      <td>1.1</td>\n",
       "      <td>11.0</td>\n",
       "    </tr>\n",
       "  </tbody>\n",
       "</table>\n",
       "</div>"
      ],
      "text/plain": [
       "  Produtos Preço Base Original     Tipo Multiplicador Imposto Preço Base Reais\n",
       "2    Teste                  10  Produto                   1.1             11.0"
      ]
     },
     "metadata": {},
     "output_type": "display_data"
    }
   ],
   "source": [
    "table.loc[2,\"Produtos\"] = produto1.get_nome()\n",
    "table.loc[2, \"Preço Base Original\"] = produto1.get_PBO()\n",
    "table.loc[2, \"Tipo\"]  = produto1.get_tipo()\n",
    "table.loc[2, \"Multiplicador Imposto\"] = produto1.get_MI()\n",
    "table.loc[2, \"Preço Base Reais\"] = produto1.get_PBR()\n",
    "\n",
    "\n",
    "display(table)\n",
    "table.to_excel(\"Produtos.xlsx\", index=False)"
   ]
  }
 ],
 "metadata": {
  "kernelspec": {
   "display_name": "Python 3",
   "language": "python",
   "name": "python3"
  },
  "language_info": {
   "codemirror_mode": {
    "name": "ipython",
    "version": 3
   },
   "file_extension": ".py",
   "mimetype": "text/x-python",
   "name": "python",
   "nbconvert_exporter": "python",
   "pygments_lexer": "ipython3",
   "version": "3.13.1"
  }
 },
 "nbformat": 4,
 "nbformat_minor": 2
}
